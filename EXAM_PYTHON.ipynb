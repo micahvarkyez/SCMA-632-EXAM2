{
  "nbformat": 4,
  "nbformat_minor": 0,
  "metadata": {
    "colab": {
      "provenance": []
    },
    "kernelspec": {
      "name": "python3",
      "display_name": "Python 3"
    },
    "language_info": {
      "name": "python"
    }
  },
  "cells": [
    {
      "cell_type": "code",
      "execution_count": 34,
      "metadata": {
        "id": "_Kp32eM1_W50"
      },
      "outputs": [],
      "source": [
        "# Import necessary libraries\n",
        "import pandas as pd\n",
        "import numpy as np\n",
        "import matplotlib.pyplot as plt\n",
        "import seaborn as sns\n",
        "from statsmodels.tsa.statespace.sarimax import SARIMAX\n",
        "from sklearn.metrics import mean_squared_error, mean_absolute_error\n",
        "from tensorflow.keras.models import Sequential\n",
        "from tensorflow.keras.layers import LSTM, Dense, Input\n",
        "from sklearn.preprocessing import MinMaxScaler"
      ]
    },
    {
      "cell_type": "code",
      "source": [
        "# Step 1: Load and clean the dat\n",
        "data = pd.read_excel(\"/content/pinksheet.xlsx\", sheet_name='Monthly Prices', skiprows=6)"
      ],
      "metadata": {
        "id": "R0D-3xJF_Zpm"
      },
      "execution_count": 6,
      "outputs": []
    },
    {
      "cell_type": "code",
      "source": [
        "# Inspect the dataset\n",
        "print(data.head())\n",
        "print(data.info())"
      ],
      "metadata": {
        "colab": {
          "base_uri": "https://localhost:8080/"
        },
        "id": "_nF0rcX3_rAQ",
        "outputId": "7b02674c-03d8-4b1c-9b0e-615ea7d57f4d"
      },
      "execution_count": 7,
      "outputs": [
        {
          "output_type": "stream",
          "name": "stdout",
          "text": [
            "  Unnamed: 0  CRUDE_PETRO  CRUDE_BRENT  CRUDE_DUBAI CRUDE_WTI COAL_AUS  \\\n",
            "0    1960M01         1.63         1.63         1.63         …        …   \n",
            "1    1960M02         1.63         1.63         1.63         …        …   \n",
            "2    1960M03         1.63         1.63         1.63         …        …   \n",
            "3    1960M04         1.63         1.63         1.63         …        …   \n",
            "4    1960M05         1.63         1.63         1.63         …        …   \n",
            "\n",
            "  COAL_SAFRICA  NGAS_US  NGAS_EUR NGAS_JP  ...    ALUMINUM  IRON_ORE  COPPER  \\\n",
            "0            …     0.14  0.404774       …  ...  511.471832     11.42  715.40   \n",
            "1            …     0.14  0.404774       …  ...  511.471832     11.42  728.19   \n",
            "2            …     0.14  0.404774       …  ...  511.471832     11.42  684.94   \n",
            "3            …     0.14  0.404774       …  ...  511.471832     11.42  723.11   \n",
            "4            …     0.14  0.404774       …  ...  511.471832     11.42  684.75   \n",
            "\n",
            "    LEAD     Tin  NICKEL   Zinc   GOLD  PLATINUM  SILVER  \n",
            "0  206.1  2180.4  1631.0  260.8  35.27      83.5  0.9137  \n",
            "1  203.7  2180.4  1631.0  244.9  35.27      83.5  0.9137  \n",
            "2  210.3  2173.8  1631.0  248.7  35.27      83.5  0.9137  \n",
            "3  213.6  2178.2  1631.0  254.6  35.27      83.5  0.9137  \n",
            "4  213.4  2162.7  1631.0  253.8  35.27      83.5  0.9137  \n",
            "\n",
            "[5 rows x 72 columns]\n",
            "<class 'pandas.core.frame.DataFrame'>\n",
            "RangeIndex: 774 entries, 0 to 773\n",
            "Data columns (total 72 columns):\n",
            " #   Column         Non-Null Count  Dtype  \n",
            "---  ------         --------------  -----  \n",
            " 0   Unnamed: 0     774 non-null    object \n",
            " 1   CRUDE_PETRO    774 non-null    float64\n",
            " 2   CRUDE_BRENT    774 non-null    float64\n",
            " 3   CRUDE_DUBAI    774 non-null    float64\n",
            " 4   CRUDE_WTI      774 non-null    object \n",
            " 5   COAL_AUS       774 non-null    object \n",
            " 6   COAL_SAFRICA   774 non-null    object \n",
            " 7   NGAS_US        774 non-null    float64\n",
            " 8   NGAS_EUR       774 non-null    float64\n",
            " 9   NGAS_JP        774 non-null    object \n",
            " 10  iNATGAS        774 non-null    object \n",
            " 11  COCOA          774 non-null    float64\n",
            " 12  COFFEE_ARABIC  774 non-null    float64\n",
            " 13  COFFEE_ROBUS   774 non-null    float64\n",
            " 14  TEA_AVG        774 non-null    float64\n",
            " 15  TEA_COLOMBO    774 non-null    float64\n",
            " 16  TEA_KOLKATA    774 non-null    float64\n",
            " 17  TEA_MOMBASA    774 non-null    float64\n",
            " 18  COCONUT_OIL    774 non-null    float64\n",
            " 19  GRNUT          774 non-null    object \n",
            " 20  FISH_MEAL      774 non-null    object \n",
            " 21  GRNUT_OIL      774 non-null    float64\n",
            " 22  PALM_OIL       774 non-null    float64\n",
            " 23  PLMKRNL_OIL    774 non-null    object \n",
            " 24  SOYBEANS       774 non-null    float64\n",
            " 25  SOYBEAN_OIL    774 non-null    float64\n",
            " 26  SOYBEAN_MEAL   774 non-null    float64\n",
            " 27  RAPESEED_OIL   774 non-null    object \n",
            " 28  SUNFLOWER_OIL  774 non-null    object \n",
            " 29  BARLEY         774 non-null    object \n",
            " 30  MAIZE          774 non-null    float64\n",
            " 31  SORGHUM        774 non-null    object \n",
            " 32  RICE_05        774 non-null    float64\n",
            " 33  RICE_25        774 non-null    object \n",
            " 34  RICE_A1        774 non-null    object \n",
            " 35  RICE_05_VNM    774 non-null    object \n",
            " 36  WHEAT_US_SRW   774 non-null    object \n",
            " 37  WHEAT_US_HRW   774 non-null    float64\n",
            " 38  BANANA_EU      774 non-null    object \n",
            " 39  BANANA_US      774 non-null    float64\n",
            " 40  ORANGE         774 non-null    float64\n",
            " 41  BEEF           774 non-null    float64\n",
            " 42  CHICKEN        774 non-null    float64\n",
            " 43  LAMB           774 non-null    object \n",
            " 44  SHRIMP_MEX     774 non-null    object \n",
            " 45  SUGAR_EU       774 non-null    float64\n",
            " 46  SUGAR_US       774 non-null    float64\n",
            " 47  SUGAR_WLD      774 non-null    float64\n",
            " 48  TOBAC_US       774 non-null    float64\n",
            " 49  LOGS_CMR       774 non-null    object \n",
            " 50  LOGS_MYS       774 non-null    float64\n",
            " 51  SAWNWD_CMR     774 non-null    object \n",
            " 52  SAWNWD_MYS     774 non-null    float64\n",
            " 53  PLYWOOD        774 non-null    object \n",
            " 54  COTTON_A_INDX  774 non-null    float64\n",
            " 55  RUBBER_TSR20   774 non-null    object \n",
            " 56  RUBBER1_MYSG   774 non-null    float64\n",
            " 57  PHOSROCK       774 non-null    object \n",
            " 58  DAP            774 non-null    object \n",
            " 59  TSP            774 non-null    float64\n",
            " 60  UREA_EE_BULK   774 non-null    float64\n",
            " 61  POTASH         774 non-null    float64\n",
            " 62  ALUMINUM       774 non-null    float64\n",
            " 63  IRON_ORE       774 non-null    float64\n",
            " 64  COPPER         774 non-null    float64\n",
            " 65  LEAD           774 non-null    float64\n",
            " 66  Tin            774 non-null    float64\n",
            " 67  NICKEL         774 non-null    float64\n",
            " 68  Zinc           774 non-null    float64\n",
            " 69  GOLD           774 non-null    float64\n",
            " 70  PLATINUM       774 non-null    float64\n",
            " 71  SILVER         774 non-null    float64\n",
            "dtypes: float64(46), object(26)\n",
            "memory usage: 435.5+ KB\n",
            "None\n"
          ]
        }
      ]
    },
    {
      "cell_type": "code",
      "source": [
        "# Handle missing values\n",
        "data = data.dropna()"
      ],
      "metadata": {
        "id": "o_ngUQcd_1Fc"
      },
      "execution_count": 4,
      "outputs": []
    },
    {
      "cell_type": "code",
      "source": [
        "# Rename the first column to 'Date' if it isn't already\n",
        "data.rename(columns={data.columns[0]: 'Date'}, inplace=True)\n",
        "\n",
        "# Convert 'Date' to datetime format (handling 'YYYYMM' format)\n",
        "data['Date'] = pd.to_datetime(data['Date'], format='%YM%m')"
      ],
      "metadata": {
        "id": "_6Am6iDP_4So"
      },
      "execution_count": 8,
      "outputs": []
    },
    {
      "cell_type": "code",
      "source": [
        "# Plot the gold prices\n",
        "plt.figure(figsize=(10, 6))\n",
        "plt.plot(data['GOLD'])\n",
        "plt.title('Gold Prices Over Time')\n",
        "plt.xlabel('Date')\n",
        "plt.ylabel('Gold Price ($/troy oz)')\n",
        "plt.show()"
      ],
      "metadata": {
        "colab": {
          "base_uri": "https://localhost:8080/",
          "height": 564
        },
        "id": "Mf6iIVqF_8JB",
        "outputId": "e229088a-4f56-4762-bee9-417cfac65d11"
      },
      "execution_count": 10,
      "outputs": [
        {
          "output_type": "display_data",
          "data": {
            "text/plain": [
              "<Figure size 1000x600 with 1 Axes>"
            ],
            "image/png": "[encoded data removed]"
          },
          "metadata": {}
        }
      ]
    },
    {
      "cell_type": "code",
      "source": [
        "# Train-test split\n",
        "train_size = int(len(data) * 0.8)\n",
        "train, test = data.iloc[:train_size], data.iloc[train_size:]"
      ],
      "metadata": {
        "id": "aFqvzJLkAfUs"
      },
      "execution_count": 11,
      "outputs": []
    },
    {
      "cell_type": "code",
      "source": [
        "# Function to evaluate model performance\n",
        "def evaluate_model(true, predicted):\n",
        "    rmse = np.sqrt(mean_squared_error(true, predicted))\n",
        "    mae = mean_absolute_error(true, predicted)\n",
        "    mape = np.mean(np.abs((true - predicted) / true)) * 100\n",
        "    return rmse, mae, mape"
      ],
      "metadata": {
        "id": "DBS0Wr13Alxd"
      },
      "execution_count": 12,
      "outputs": []
    },
    {
      "cell_type": "code",
      "source": [
        "# SARIMA Model\n",
        "sarima_model = SARIMAX(train['GOLD'], order=(1, 1, 1), seasonal_order=(1, 1, 1, 12))\n",
        "sarima_result = sarima_model.fit(disp=False)\n",
        "sarima_pred = sarima_result.predict(start=len(train), end=len(train) + len(test) - 1, typ='levels')\n",
        "sarima_rmse, sarima_mae, sarima_mape = evaluate_model(test['GOLD'], sarima_pred)"
      ],
      "metadata": {
        "colab": {
          "base_uri": "https://localhost:8080/"
        },
        "id": "0dOTiw4oApaN",
        "outputId": "97bfbc9e-5063-4290-dc46-20a89a0f13c4"
      },
      "execution_count": 13,
      "outputs": [
        {
          "output_type": "stream",
          "name": "stderr",
          "text": [
            "/usr/local/lib/python3.10/dist-packages/statsmodels/tsa/statespace/representation.py:374: FutureWarning: Unknown keyword arguments: dict_keys(['typ']).Passing unknown keyword arguments will raise a TypeError beginning in version 0.15.\n",
            "  warnings.warn(msg, FutureWarning)\n"
          ]
        }
      ]
    },
    {
      "cell_type": "code",
      "source": [
        "# Plot SARIMA results\n",
        "plt.figure(figsize=(10, 6))\n",
        "plt.plot(train['GOLD'], label='Train')\n",
        "plt.plot(test['GOLD'], label='Test')\n",
        "plt.plot(sarima_pred, label='SARIMA Forecast')\n",
        "plt.title('SARIMA Model Forecast')\n",
        "plt.xlabel('Date')\n",
        "plt.ylabel('Gold Price ($/troy oz)')\n",
        "plt.legend()\n",
        "plt.show()"
      ],
      "metadata": {
        "colab": {
          "base_uri": "https://localhost:8080/",
          "height": 564
        },
        "id": "ofxufk_MAykS",
        "outputId": "5417737d-635b-49b5-cb10-38ffe43a802e"
      },
      "execution_count": 15,
      "outputs": [
        {
          "output_type": "display_data",
          "data": {
            "text/plain": [
              "<Figure size 1000x600 with 1 Axes>"
            ],
            "image/png": "[encoded data removed]"
          },
          "metadata": {}
        }
      ]
    },
    {
      "cell_type": "markdown",
      "source": [
        "LSTM MODEL"
      ],
      "metadata": {
        "id": "DhgyaBorBHcw"
      }
    },
    {
      "cell_type": "code",
      "source": [
        "print(data.dtypes)"
      ],
      "metadata": {
        "colab": {
          "base_uri": "https://localhost:8080/"
        },
        "id": "3u6Lz_StA5fG",
        "outputId": "333c9f99-abba-44cf-ca43-95d3f5b36238"
      },
      "execution_count": 18,
      "outputs": [
        {
          "output_type": "stream",
          "name": "stdout",
          "text": [
            "Date           datetime64[ns]\n",
            "CRUDE_PETRO           float64\n",
            "CRUDE_BRENT           float64\n",
            "CRUDE_DUBAI           float64\n",
            "CRUDE_WTI              object\n",
            "                    ...      \n",
            "NICKEL                float64\n",
            "Zinc                  float64\n",
            "GOLD                  float64\n",
            "PLATINUM              float64\n",
            "SILVER                float64\n",
            "Length: 72, dtype: object\n"
          ]
        }
      ]
    },
    {
      "cell_type": "code",
      "source": [
        "# Rename the first column to 'Date' if it isn't already\n",
        "data.rename(columns={data.columns[0]: 'Date'}, inplace=True)\n",
        "\n",
        "# Convert 'Date' to datetime format (handling 'YYYYMM' format)\n",
        "data['Date'] = pd.to_datetime(data['Date'], format='%YM%m')"
      ],
      "metadata": {
        "id": "JPEK44NOBzeA"
      },
      "execution_count": 24,
      "outputs": []
    },
    {
      "cell_type": "code",
      "source": [
        "df = data[['GOLD']]"
      ],
      "metadata": {
        "id": "bEhIwCAUBKGB"
      },
      "execution_count": 25,
      "outputs": []
    },
    {
      "cell_type": "code",
      "source": [
        "df.head()"
      ],
      "metadata": {
        "colab": {
          "base_uri": "https://localhost:8080/",
          "height": 206
        },
        "id": "hwLoLR_CBkfa",
        "outputId": "a5a5c277-85b1-4ff4-e6d9-0d2eb72a0492"
      },
      "execution_count": 26,
      "outputs": [
        {
          "output_type": "execute_result",
          "data": {
            "text/plain": [
              "    GOLD\n",
              "0  35.27\n",
              "1  35.27\n",
              "2  35.27\n",
              "3  35.27\n",
              "4  35.27"
            ],
            "text/html": [
              "\n",
              "  <div id=\"df-54fac55a-fe71-42b5-acf8-2f583fa6fa44\" class=\"colab-df-container\">\n",
              "    <div>\n",
              "<style scoped>\n",
              "    .dataframe tbody tr th:only-of-type {\n",
              "        vertical-align: middle;\n",
              "    }\n",
              "\n",
              "    .dataframe tbody tr th {\n",
              "        vertical-align: top;\n",
              "    }\n",
              "\n",
              "    .dataframe thead th {\n",
              "        text-align: right;\n",
              "    }\n",
              "</style>\n",
              "<table border=\"1\" class=\"dataframe\">\n",
              "  <thead>\n",
              "    <tr style=\"text-align: right;\">\n",
              "      <th></th>\n",
              "      <th>GOLD</th>\n",
              "    </tr>\n",
              "  </thead>\n",
              "  <tbody>\n",
              "    <tr>\n",
              "      <th>0</th>\n",
              "      <td>35.27</td>\n",
              "    </tr>\n",
              "    <tr>\n",
              "      <th>1</th>\n",
              "      <td>35.27</td>\n",
              "    </tr>\n",
              "    <tr>\n",
              "      <th>2</th>\n",
              "      <td>35.27</td>\n",
              "    </tr>\n",
              "    <tr>\n",
              "      <th>3</th>\n",
              "      <td>35.27</td>\n",
              "    </tr>\n",
              "    <tr>\n",
              "      <th>4</th>\n",
              "      <td>35.27</td>\n",
              "    </tr>\n",
              "  </tbody>\n",
              "</table>\n",
              "</div>\n",
              "    <div class=\"colab-df-buttons\">\n",
              "\n",
              "  <div class=\"colab-df-container\">\n",
              "    <button class=\"colab-df-convert\" onclick=\"convertToInteractive('df-54fac55a-fe71-42b5-acf8-2f583fa6fa44')\"\n",
              "            title=\"Convert this dataframe to an interactive table.\"\n",
              "            style=\"display:none;\">\n",
              "\n",
              "  <svg xmlns=\"http://www.w3.org/2000/svg\" height=\"24px\" viewBox=\"0 -960 960 960\">\n",
              "    <path d=\"M120-120v-720h720v720H120Zm60-500h600v-160H180v160Zm220 220h160v-160H400v160Zm0 220h160v-160H400v160ZM180-400h160v-160H180v160Zm440 0h160v-160H620v160ZM180-180h160v-160H180v160Zm440 0h160v-160H620v160Z\"/>\n",
              "  </svg>\n",
              "    </button>\n",
              "\n",
              "  <style>\n",
              "    .colab-df-container {\n",
              "      display:flex;\n",
              "      gap: 12px;\n",
              "    }\n",
              "\n",
              "    .colab-df-convert {\n",
              "      background-color: #E8F0FE;\n",
              "      border: none;\n",
              "      border-radius: 50%;\n",
              "      cursor: pointer;\n",
              "      display: none;\n",
              "      fill: #1967D2;\n",
              "      height: 32px;\n",
              "      padding: 0 0 0 0;\n",
              "      width: 32px;\n",
              "    }\n",
              "\n",
              "    .colab-df-convert:hover {\n",
              "      background-color: #E2EBFA;\n",
              "      box-shadow: 0px 1px 2px rgba(60, 64, 67, 0.3), 0px 1px 3px 1px rgba(60, 64, 67, 0.15);\n",
              "      fill: #174EA6;\n",
              "    }\n",
              "\n",
              "    .colab-df-buttons div {\n",
              "      margin-bottom: 4px;\n",
              "    }\n",
              "\n",
              "    [theme=dark] .colab-df-convert {\n",
              "      background-color: #3B4455;\n",
              "      fill: #D2E3FC;\n",
              "    }\n",
              "\n",
              "    [theme=dark] .colab-df-convert:hover {\n",
              "      background-color: #434B5C;\n",
              "      box-shadow: 0px 1px 3px 1px rgba(0, 0, 0, 0.15);\n",
              "      filter: drop-shadow(0px 1px 2px rgba(0, 0, 0, 0.3));\n",
              "      fill: #FFFFFF;\n",
              "    }\n",
              "  </style>\n",
              "\n",
              "    <script>\n",
              "      const buttonEl =\n",
              "        document.querySelector('#df-54fac55a-fe71-42b5-acf8-2f583fa6fa44 button.colab-df-convert');\n",
              "      buttonEl.style.display =\n",
              "        google.colab.kernel.accessAllowed ? 'block' : 'none';\n",
              "\n",
              "      async function convertToInteractive(key) {\n",
              "        const element = document.querySelector('#df-54fac55a-fe71-42b5-acf8-2f583fa6fa44');\n",
              "        const dataTable =\n",
              "          await google.colab.kernel.invokeFunction('convertToInteractive',\n",
              "                                                    [key], {});\n",
              "        if (!dataTable) return;\n",
              "\n",
              "        const docLinkHtml = 'Like what you see? Visit the ' +\n",
              "          '<a target=\"_blank\" href=https://colab.research.google.com/notebooks/data_table.ipynb>data table notebook</a>'\n",
              "          + ' to learn more about interactive tables.';\n",
              "        element.innerHTML = '';\n",
              "        dataTable['output_type'] = 'display_data';\n",
              "        await google.colab.output.renderOutput(dataTable, element);\n",
              "        const docLink = document.createElement('div');\n",
              "        docLink.innerHTML = docLinkHtml;\n",
              "        element.appendChild(docLink);\n",
              "      }\n",
              "    </script>\n",
              "  </div>\n",
              "\n",
              "\n",
              "<div id=\"df-bcf013f0-5cdc-4283-b091-0bc43da00b54\">\n",
              "  <button class=\"colab-df-quickchart\" onclick=\"quickchart('df-bcf013f0-5cdc-4283-b091-0bc43da00b54')\"\n",
              "            title=\"Suggest charts\"\n",
              "            style=\"display:none;\">\n",
              "\n",
              "<svg xmlns=\"http://www.w3.org/2000/svg\" height=\"24px\"viewBox=\"0 0 24 24\"\n",
              "     width=\"24px\">\n",
              "    <g>\n",
              "        <path d=\"M19 3H5c-1.1 0-2 .9-2 2v14c0 1.1.9 2 2 2h14c1.1 0 2-.9 2-2V5c0-1.1-.9-2-2-2zM9 17H7v-7h2v7zm4 0h-2V7h2v10zm4 0h-2v-4h2v4z\"/>\n",
              "    </g>\n",
              "</svg>\n",
              "  </button>\n",
              "\n",
              "<style>\n",
              "  .colab-df-quickchart {\n",
              "      --bg-color: #E8F0FE;\n",
              "      --fill-color: #1967D2;\n",
              "      --hover-bg-color: #E2EBFA;\n",
              "      --hover-fill-color: #174EA6;\n",
              "      --disabled-fill-color: #AAA;\n",
              "      --disabled-bg-color: #DDD;\n",
              "  }\n",
              "\n",
              "  [theme=dark] .colab-df-quickchart {\n",
              "      --bg-color: #3B4455;\n",
              "      --fill-color: #D2E3FC;\n",
              "      --hover-bg-color: #434B5C;\n",
              "      --hover-fill-color: #FFFFFF;\n",
              "      --disabled-bg-color: #3B4455;\n",
              "      --disabled-fill-color: #666;\n",
              "  }\n",
              "\n",
              "  .colab-df-quickchart {\n",
              "    background-color: var(--bg-color);\n",
              "    border: none;\n",
              "    border-radius: 50%;\n",
              "    cursor: pointer;\n",
              "    display: none;\n",
              "    fill: var(--fill-color);\n",
              "    height: 32px;\n",
              "    padding: 0;\n",
              "    width: 32px;\n",
              "  }\n",
              "\n",
              "  .colab-df-quickchart:hover {\n",
              "    background-color: var(--hover-bg-color);\n",
              "    box-shadow: 0 1px 2px rgba(60, 64, 67, 0.3), 0 1px 3px 1px rgba(60, 64, 67, 0.15);\n",
              "    fill: var(--button-hover-fill-color);\n",
              "  }\n",
              "\n",
              "  .colab-df-quickchart-complete:disabled,\n",
              "  .colab-df-quickchart-complete:disabled:hover {\n",
              "    background-color: var(--disabled-bg-color);\n",
              "    fill: var(--disabled-fill-color);\n",
              "    box-shadow: none;\n",
              "  }\n",
              "\n",
              "  .colab-df-spinner {\n",
              "    border: 2px solid var(--fill-color);\n",
              "    border-color: transparent;\n",
              "    border-bottom-color: var(--fill-color);\n",
              "    animation:\n",
              "      spin 1s steps(1) infinite;\n",
              "  }\n",
              "\n",
              "  @keyframes spin {\n",
              "    0% {\n",
              "      border-color: transparent;\n",
              "      border-bottom-color: var(--fill-color);\n",
              "      border-left-color: var(--fill-color);\n",
              "    }\n",
              "    20% {\n",
              "      border-color: transparent;\n",
              "      border-left-color: var(--fill-color);\n",
              "      border-top-color: var(--fill-color);\n",
              "    }\n",
              "    30% {\n",
              "      border-color: transparent;\n",
              "      border-left-color: var(--fill-color);\n",
              "      border-top-color: var(--fill-color);\n",
              "      border-right-color: var(--fill-color);\n",
              "    }\n",
              "    40% {\n",
              "      border-color: transparent;\n",
              "      border-right-color: var(--fill-color);\n",
              "      border-top-color: var(--fill-color);\n",
              "    }\n",
              "    60% {\n",
              "      border-color: transparent;\n",
              "      border-right-color: var(--fill-color);\n",
              "    }\n",
              "    80% {\n",
              "      border-color: transparent;\n",
              "      border-right-color: var(--fill-color);\n",
              "      border-bottom-color: var(--fill-color);\n",
              "    }\n",
              "    90% {\n",
              "      border-color: transparent;\n",
              "      border-bottom-color: var(--fill-color);\n",
              "    }\n",
              "  }\n",
              "</style>\n",
              "\n",
              "  <script>\n",
              "    async function quickchart(key) {\n",
              "      const quickchartButtonEl =\n",
              "        document.querySelector('#' + key + ' button');\n",
              "      quickchartButtonEl.disabled = true;  // To prevent multiple clicks.\n",
              "      quickchartButtonEl.classList.add('colab-df-spinner');\n",
              "      try {\n",
              "        const charts = await google.colab.kernel.invokeFunction(\n",
              "            'suggestCharts', [key], {});\n",
              "      } catch (error) {\n",
              "        console.error('Error during call to suggestCharts:', error);\n",
              "      }\n",
              "      quickchartButtonEl.classList.remove('colab-df-spinner');\n",
              "      quickchartButtonEl.classList.add('colab-df-quickchart-complete');\n",
              "    }\n",
              "    (() => {\n",
              "      let quickchartButtonEl =\n",
              "        document.querySelector('#df-bcf013f0-5cdc-4283-b091-0bc43da00b54 button');\n",
              "      quickchartButtonEl.style.display =\n",
              "        google.colab.kernel.accessAllowed ? 'block' : 'none';\n",
              "    })();\n",
              "  </script>\n",
              "</div>\n",
              "\n",
              "    </div>\n",
              "  </div>\n"
            ],
            "application/vnd.google.colaboratory.intrinsic+json": {
              "type": "dataframe",
              "variable_name": "df",
              "summary": "{\n  \"name\": \"df\",\n  \"rows\": 774,\n  \"fields\": [\n    {\n      \"column\": \"GOLD\",\n      \"properties\": {\n        \"dtype\": \"number\",\n        \"std\": 561.5824589264657,\n        \"min\": 34.94,\n        \"max\": 2351.13,\n        \"num_unique_values\": 681,\n        \"samples\": [\n          1776.85,\n          338.62,\n          64.86\n        ],\n        \"semantic_type\": \"\",\n        \"description\": \"\"\n      }\n    }\n  ]\n}"
            }
          },
          "metadata": {},
          "execution_count": 26
        }
      ]
    },
    {
      "cell_type": "code",
      "source": [
        "df1 = df.values\n",
        "df1 = df1.astype('float32')"
      ],
      "metadata": {
        "id": "0QVtxw1xBmzc"
      },
      "execution_count": 27,
      "outputs": []
    },
    {
      "cell_type": "code",
      "source": [
        "##LSTM uses sigmoid and tanh functions that are sensitive to magnitude\n",
        "##normalize the dataset\n",
        "scaler = MinMaxScaler(feature_range=(0, 1))\n",
        "dataset = scaler.fit_transform(df1)"
      ],
      "metadata": {
        "id": "jGYedFHYCVlV"
      },
      "execution_count": 28,
      "outputs": []
    },
    {
      "cell_type": "code",
      "source": [
        "train_size = int(len(dataset) * 0.70)\n",
        "test_size = len(dataset) - train_size\n",
        "train, test = dataset[0:train_size,:], dataset[train_size:len(dataset),:]\n",
        "len(train),len(test)"
      ],
      "metadata": {
        "colab": {
          "base_uri": "https://localhost:8080/"
        },
        "id": "bfks8zBGCaFD",
        "outputId": "b8213e29-d973-4900-99e1-bb32417609b1"
      },
      "execution_count": 29,
      "outputs": [
        {
          "output_type": "execute_result",
          "data": {
            "text/plain": [
              "(541, 233)"
            ]
          },
          "metadata": {},
          "execution_count": 29
        }
      ]
    },
    {
      "cell_type": "code",
      "source": [
        "def to_sequences(dataset, seq_size=1):\n",
        "    x = []\n",
        "    y = []\n",
        "\n",
        "    for i in range(len(dataset)-seq_size-1):\n",
        "        #print(i)\n",
        "        window = dataset[i:(i+seq_size), 0]\n",
        "        x.append(window)\n",
        "        y.append(dataset[i+seq_size, 0])\n",
        "\n",
        "    return np.array(x),np.array(y)"
      ],
      "metadata": {
        "id": "smfkf131Cdo8"
      },
      "execution_count": 30,
      "outputs": []
    },
    {
      "cell_type": "code",
      "source": [
        "seq_size = 5\n",
        "trainX, trainY = to_sequences(train, seq_size)\n",
        "testX, testY = to_sequences(test, seq_size)"
      ],
      "metadata": {
        "id": "IBLdha5MChlw"
      },
      "execution_count": 31,
      "outputs": []
    },
    {
      "cell_type": "code",
      "source": [
        "trainX = np.reshape(trainX, (trainX.shape[0], 1, trainX.shape[1]))\n",
        "testX = np.reshape(testX, (testX.shape[0], 1, testX.shape[1]))"
      ],
      "metadata": {
        "id": "Bal5u9kECjt8"
      },
      "execution_count": 32,
      "outputs": []
    },
    {
      "cell_type": "code",
      "source": [
        "print('Single LSTM with hidden Dense...')\n",
        "from keras.callbacks import ModelCheckpoint, EarlyStopping\n",
        "model = Sequential()\n",
        "# Add Input layer to define the input shape\n",
        "model.add(Input(shape=(None, seq_size)))\n",
        "# Add the LSTM layer\n",
        "model.add(LSTM(64))\n",
        "# Add Dense layers\n",
        "model.add(Dense(32))\n",
        "model.add(Dense(1))\n",
        "# Compile the model\n",
        "model.compile(loss='mean_squared_error', optimizer='adam')\n",
        "# Print the model summary\n",
        "model.summary()"
      ],
      "metadata": {
        "colab": {
          "base_uri": "https://localhost:8080/"
        },
        "id": "qacywxW2Cmsi",
        "outputId": "77ceb640-1109-40db-f1e1-609c2fa29431"
      },
      "execution_count": 35,
      "outputs": [
        {
          "output_type": "stream",
          "name": "stdout",
          "text": [
            "Single LSTM with hidden Dense...\n",
            "Model: \"sequential_1\"\n",
            "_________________________________________________________________\n",
            " Layer (type)                Output Shape              Param #   \n",
            "=================================================================\n",
            " lstm (LSTM)                 (None, 64)                17920     \n",
            "                                                                 \n",
            " dense (Dense)               (None, 32)                2080      \n",
            "                                                                 \n",
            " dense_1 (Dense)             (None, 1)                 33        \n",
            "                                                                 \n",
            "=================================================================\n",
            "Total params: 20033 (78.25 KB)\n",
            "Trainable params: 20033 (78.25 KB)\n",
            "Non-trainable params: 0 (0.00 Byte)\n",
            "_________________________________________________________________\n"
          ]
        }
      ]
    },
    {
      "cell_type": "code",
      "source": [
        "model.fit(trainX, trainY, validation_data=(testX, testY),\n",
        "          verbose=2, epochs=100)"
      ],
      "metadata": {
        "colab": {
          "base_uri": "https://localhost:8080/"
        },
        "id": "QUabdtoJCsaE",
        "outputId": "bd1ed565-8921-467e-a340-50bcdb1f2e9c"
      },
      "execution_count": 36,
      "outputs": [
        {
          "output_type": "stream",
          "name": "stdout",
          "text": [
            "Epoch 1/100\n",
            "17/17 - 5s - loss: 0.0055 - val_loss: 0.0823 - 5s/epoch - 296ms/step\n",
            "Epoch 2/100\n",
            "17/17 - 0s - loss: 0.0018 - val_loss: 0.0507 - 290ms/epoch - 17ms/step\n",
            "Epoch 3/100\n",
            "17/17 - 0s - loss: 5.6533e-04 - val_loss: 0.0037 - 150ms/epoch - 9ms/step\n",
            "Epoch 4/100\n",
            "17/17 - 0s - loss: 1.7031e-04 - val_loss: 0.0029 - 94ms/epoch - 6ms/step\n",
            "Epoch 5/100\n",
            "17/17 - 0s - loss: 1.5501e-04 - val_loss: 0.0016 - 96ms/epoch - 6ms/step\n",
            "Epoch 6/100\n",
            "17/17 - 0s - loss: 1.4361e-04 - val_loss: 0.0014 - 94ms/epoch - 6ms/step\n",
            "Epoch 7/100\n",
            "17/17 - 0s - loss: 1.4399e-04 - val_loss: 0.0013 - 92ms/epoch - 5ms/step\n",
            "Epoch 8/100\n",
            "17/17 - 0s - loss: 1.3522e-04 - val_loss: 0.0012 - 126ms/epoch - 7ms/step\n",
            "Epoch 9/100\n",
            "17/17 - 0s - loss: 1.3734e-04 - val_loss: 0.0014 - 347ms/epoch - 20ms/step\n",
            "Epoch 10/100\n",
            "17/17 - 0s - loss: 1.3433e-04 - val_loss: 0.0012 - 305ms/epoch - 18ms/step\n",
            "Epoch 11/100\n",
            "17/17 - 0s - loss: 1.2823e-04 - val_loss: 0.0012 - 95ms/epoch - 6ms/step\n",
            "Epoch 12/100\n",
            "17/17 - 0s - loss: 1.2604e-04 - val_loss: 0.0012 - 99ms/epoch - 6ms/step\n",
            "Epoch 13/100\n",
            "17/17 - 0s - loss: 1.2551e-04 - val_loss: 0.0012 - 93ms/epoch - 5ms/step\n",
            "Epoch 14/100\n",
            "17/17 - 0s - loss: 1.2405e-04 - val_loss: 0.0011 - 103ms/epoch - 6ms/step\n",
            "Epoch 15/100\n",
            "17/17 - 0s - loss: 1.1654e-04 - val_loss: 0.0012 - 105ms/epoch - 6ms/step\n",
            "Epoch 16/100\n",
            "17/17 - 0s - loss: 1.2258e-04 - val_loss: 0.0014 - 113ms/epoch - 7ms/step\n",
            "Epoch 17/100\n",
            "17/17 - 0s - loss: 1.2138e-04 - val_loss: 0.0014 - 119ms/epoch - 7ms/step\n",
            "Epoch 18/100\n",
            "17/17 - 0s - loss: 1.1097e-04 - val_loss: 0.0012 - 105ms/epoch - 6ms/step\n",
            "Epoch 19/100\n",
            "17/17 - 0s - loss: 1.0934e-04 - val_loss: 0.0010 - 98ms/epoch - 6ms/step\n",
            "Epoch 20/100\n",
            "17/17 - 0s - loss: 1.0902e-04 - val_loss: 0.0012 - 100ms/epoch - 6ms/step\n",
            "Epoch 21/100\n",
            "17/17 - 0s - loss: 1.0515e-04 - val_loss: 0.0014 - 95ms/epoch - 6ms/step\n",
            "Epoch 22/100\n",
            "17/17 - 0s - loss: 1.0445e-04 - val_loss: 0.0014 - 100ms/epoch - 6ms/step\n",
            "Epoch 23/100\n",
            "17/17 - 0s - loss: 1.0044e-04 - val_loss: 0.0011 - 95ms/epoch - 6ms/step\n",
            "Epoch 24/100\n",
            "17/17 - 0s - loss: 9.7801e-05 - val_loss: 0.0014 - 94ms/epoch - 6ms/step\n",
            "Epoch 25/100\n",
            "17/17 - 0s - loss: 9.4798e-05 - val_loss: 0.0015 - 140ms/epoch - 8ms/step\n",
            "Epoch 26/100\n",
            "17/17 - 0s - loss: 9.4441e-05 - val_loss: 0.0012 - 118ms/epoch - 7ms/step\n",
            "Epoch 27/100\n",
            "17/17 - 0s - loss: 9.2393e-05 - val_loss: 0.0016 - 109ms/epoch - 6ms/step\n",
            "Epoch 28/100\n",
            "17/17 - 0s - loss: 9.1859e-05 - val_loss: 0.0012 - 100ms/epoch - 6ms/step\n",
            "Epoch 29/100\n",
            "17/17 - 0s - loss: 9.5591e-05 - val_loss: 0.0014 - 98ms/epoch - 6ms/step\n",
            "Epoch 30/100\n",
            "17/17 - 0s - loss: 8.6574e-05 - val_loss: 0.0013 - 97ms/epoch - 6ms/step\n",
            "Epoch 31/100\n",
            "17/17 - 0s - loss: 8.8076e-05 - val_loss: 0.0016 - 104ms/epoch - 6ms/step\n",
            "Epoch 32/100\n",
            "17/17 - 0s - loss: 8.2415e-05 - val_loss: 0.0019 - 110ms/epoch - 6ms/step\n",
            "Epoch 33/100\n",
            "17/17 - 0s - loss: 8.0576e-05 - val_loss: 0.0014 - 101ms/epoch - 6ms/step\n",
            "Epoch 34/100\n",
            "17/17 - 0s - loss: 7.9838e-05 - val_loss: 0.0020 - 105ms/epoch - 6ms/step\n",
            "Epoch 35/100\n",
            "17/17 - 0s - loss: 7.6293e-05 - val_loss: 0.0019 - 121ms/epoch - 7ms/step\n",
            "Epoch 36/100\n",
            "17/17 - 0s - loss: 7.7951e-05 - val_loss: 0.0015 - 105ms/epoch - 6ms/step\n",
            "Epoch 37/100\n",
            "17/17 - 0s - loss: 7.4198e-05 - val_loss: 0.0020 - 121ms/epoch - 7ms/step\n",
            "Epoch 38/100\n",
            "17/17 - 0s - loss: 7.7686e-05 - val_loss: 0.0022 - 152ms/epoch - 9ms/step\n",
            "Epoch 39/100\n",
            "17/17 - 0s - loss: 7.6657e-05 - val_loss: 0.0024 - 133ms/epoch - 8ms/step\n",
            "Epoch 40/100\n",
            "17/17 - 0s - loss: 7.3910e-05 - val_loss: 0.0024 - 177ms/epoch - 10ms/step\n",
            "Epoch 41/100\n",
            "17/17 - 0s - loss: 7.0522e-05 - val_loss: 0.0031 - 142ms/epoch - 8ms/step\n",
            "Epoch 42/100\n",
            "17/17 - 0s - loss: 7.4736e-05 - val_loss: 0.0026 - 140ms/epoch - 8ms/step\n",
            "Epoch 43/100\n",
            "17/17 - 0s - loss: 6.9753e-05 - val_loss: 0.0025 - 144ms/epoch - 8ms/step\n",
            "Epoch 44/100\n",
            "17/17 - 0s - loss: 6.7814e-05 - val_loss: 0.0033 - 129ms/epoch - 8ms/step\n",
            "Epoch 45/100\n",
            "17/17 - 0s - loss: 7.6451e-05 - val_loss: 0.0026 - 131ms/epoch - 8ms/step\n",
            "Epoch 46/100\n",
            "17/17 - 0s - loss: 7.6898e-05 - val_loss: 0.0028 - 130ms/epoch - 8ms/step\n",
            "Epoch 47/100\n",
            "17/17 - 0s - loss: 7.5904e-05 - val_loss: 0.0037 - 136ms/epoch - 8ms/step\n",
            "Epoch 48/100\n",
            "17/17 - 0s - loss: 7.0329e-05 - val_loss: 0.0029 - 177ms/epoch - 10ms/step\n",
            "Epoch 49/100\n",
            "17/17 - 0s - loss: 6.7762e-05 - val_loss: 0.0039 - 192ms/epoch - 11ms/step\n",
            "Epoch 50/100\n",
            "17/17 - 0s - loss: 7.3532e-05 - val_loss: 0.0033 - 183ms/epoch - 11ms/step\n",
            "Epoch 51/100\n",
            "17/17 - 0s - loss: 7.2085e-05 - val_loss: 0.0032 - 183ms/epoch - 11ms/step\n",
            "Epoch 52/100\n",
            "17/17 - 0s - loss: 7.4719e-05 - val_loss: 0.0046 - 145ms/epoch - 9ms/step\n",
            "Epoch 53/100\n",
            "17/17 - 0s - loss: 7.6279e-05 - val_loss: 0.0035 - 137ms/epoch - 8ms/step\n",
            "Epoch 54/100\n",
            "17/17 - 0s - loss: 6.3911e-05 - val_loss: 0.0040 - 191ms/epoch - 11ms/step\n",
            "Epoch 55/100\n",
            "17/17 - 0s - loss: 6.3903e-05 - val_loss: 0.0042 - 133ms/epoch - 8ms/step\n",
            "Epoch 56/100\n",
            "17/17 - 0s - loss: 7.0883e-05 - val_loss: 0.0035 - 134ms/epoch - 8ms/step\n",
            "Epoch 57/100\n",
            "17/17 - 0s - loss: 6.5078e-05 - val_loss: 0.0042 - 158ms/epoch - 9ms/step\n",
            "Epoch 58/100\n",
            "17/17 - 0s - loss: 6.1653e-05 - val_loss: 0.0049 - 187ms/epoch - 11ms/step\n",
            "Epoch 59/100\n",
            "17/17 - 0s - loss: 6.4841e-05 - val_loss: 0.0051 - 141ms/epoch - 8ms/step\n",
            "Epoch 60/100\n",
            "17/17 - 0s - loss: 6.3931e-05 - val_loss: 0.0042 - 100ms/epoch - 6ms/step\n",
            "Epoch 61/100\n",
            "17/17 - 0s - loss: 6.6519e-05 - val_loss: 0.0049 - 120ms/epoch - 7ms/step\n",
            "Epoch 62/100\n",
            "17/17 - 0s - loss: 6.3429e-05 - val_loss: 0.0058 - 90ms/epoch - 5ms/step\n",
            "Epoch 63/100\n",
            "17/17 - 0s - loss: 7.0718e-05 - val_loss: 0.0039 - 98ms/epoch - 6ms/step\n",
            "Epoch 64/100\n",
            "17/17 - 0s - loss: 6.3239e-05 - val_loss: 0.0065 - 93ms/epoch - 5ms/step\n",
            "Epoch 65/100\n",
            "17/17 - 0s - loss: 8.1154e-05 - val_loss: 0.0075 - 110ms/epoch - 6ms/step\n",
            "Epoch 66/100\n",
            "17/17 - 0s - loss: 7.0910e-05 - val_loss: 0.0050 - 104ms/epoch - 6ms/step\n",
            "Epoch 67/100\n",
            "17/17 - 0s - loss: 5.9547e-05 - val_loss: 0.0060 - 102ms/epoch - 6ms/step\n",
            "Epoch 68/100\n",
            "17/17 - 0s - loss: 6.0542e-05 - val_loss: 0.0055 - 103ms/epoch - 6ms/step\n",
            "Epoch 69/100\n",
            "17/17 - 0s - loss: 6.4047e-05 - val_loss: 0.0056 - 98ms/epoch - 6ms/step\n",
            "Epoch 70/100\n",
            "17/17 - 0s - loss: 6.1186e-05 - val_loss: 0.0053 - 110ms/epoch - 6ms/step\n",
            "Epoch 71/100\n",
            "17/17 - 0s - loss: 6.4788e-05 - val_loss: 0.0067 - 119ms/epoch - 7ms/step\n",
            "Epoch 72/100\n",
            "17/17 - 0s - loss: 6.7168e-05 - val_loss: 0.0070 - 95ms/epoch - 6ms/step\n",
            "Epoch 73/100\n",
            "17/17 - 0s - loss: 5.8819e-05 - val_loss: 0.0062 - 98ms/epoch - 6ms/step\n",
            "Epoch 74/100\n",
            "17/17 - 0s - loss: 6.0296e-05 - val_loss: 0.0058 - 91ms/epoch - 5ms/step\n",
            "Epoch 75/100\n",
            "17/17 - 0s - loss: 6.2050e-05 - val_loss: 0.0061 - 117ms/epoch - 7ms/step\n",
            "Epoch 76/100\n",
            "17/17 - 0s - loss: 6.2889e-05 - val_loss: 0.0078 - 97ms/epoch - 6ms/step\n",
            "Epoch 77/100\n",
            "17/17 - 0s - loss: 5.7762e-05 - val_loss: 0.0058 - 95ms/epoch - 6ms/step\n",
            "Epoch 78/100\n",
            "17/17 - 0s - loss: 7.0281e-05 - val_loss: 0.0064 - 92ms/epoch - 5ms/step\n",
            "Epoch 79/100\n",
            "17/17 - 0s - loss: 6.0432e-05 - val_loss: 0.0061 - 88ms/epoch - 5ms/step\n",
            "Epoch 80/100\n",
            "17/17 - 0s - loss: 5.9006e-05 - val_loss: 0.0062 - 159ms/epoch - 9ms/step\n",
            "Epoch 81/100\n",
            "17/17 - 0s - loss: 6.6471e-05 - val_loss: 0.0069 - 90ms/epoch - 5ms/step\n",
            "Epoch 82/100\n",
            "17/17 - 0s - loss: 6.6542e-05 - val_loss: 0.0066 - 97ms/epoch - 6ms/step\n",
            "Epoch 83/100\n",
            "17/17 - 0s - loss: 5.8389e-05 - val_loss: 0.0080 - 99ms/epoch - 6ms/step\n",
            "Epoch 84/100\n",
            "17/17 - 0s - loss: 5.8905e-05 - val_loss: 0.0070 - 105ms/epoch - 6ms/step\n",
            "Epoch 85/100\n",
            "17/17 - 0s - loss: 5.7159e-05 - val_loss: 0.0071 - 96ms/epoch - 6ms/step\n",
            "Epoch 86/100\n",
            "17/17 - 0s - loss: 5.5759e-05 - val_loss: 0.0074 - 102ms/epoch - 6ms/step\n",
            "Epoch 87/100\n",
            "17/17 - 0s - loss: 5.8399e-05 - val_loss: 0.0065 - 96ms/epoch - 6ms/step\n",
            "Epoch 88/100\n",
            "17/17 - 0s - loss: 7.9744e-05 - val_loss: 0.0057 - 102ms/epoch - 6ms/step\n",
            "Epoch 89/100\n",
            "17/17 - 0s - loss: 5.8711e-05 - val_loss: 0.0087 - 125ms/epoch - 7ms/step\n",
            "Epoch 90/100\n",
            "17/17 - 0s - loss: 5.8339e-05 - val_loss: 0.0082 - 121ms/epoch - 7ms/step\n",
            "Epoch 91/100\n",
            "17/17 - 0s - loss: 5.5161e-05 - val_loss: 0.0068 - 99ms/epoch - 6ms/step\n",
            "Epoch 92/100\n",
            "17/17 - 0s - loss: 5.8023e-05 - val_loss: 0.0094 - 100ms/epoch - 6ms/step\n",
            "Epoch 93/100\n",
            "17/17 - 0s - loss: 5.6918e-05 - val_loss: 0.0077 - 93ms/epoch - 5ms/step\n",
            "Epoch 94/100\n",
            "17/17 - 0s - loss: 5.9420e-05 - val_loss: 0.0094 - 114ms/epoch - 7ms/step\n",
            "Epoch 95/100\n",
            "17/17 - 0s - loss: 5.6778e-05 - val_loss: 0.0069 - 104ms/epoch - 6ms/step\n",
            "Epoch 96/100\n",
            "17/17 - 0s - loss: 5.5799e-05 - val_loss: 0.0095 - 99ms/epoch - 6ms/step\n",
            "Epoch 97/100\n",
            "17/17 - 0s - loss: 5.7381e-05 - val_loss: 0.0077 - 103ms/epoch - 6ms/step\n",
            "Epoch 98/100\n",
            "17/17 - 0s - loss: 5.7836e-05 - val_loss: 0.0087 - 114ms/epoch - 7ms/step\n",
            "Epoch 99/100\n",
            "17/17 - 0s - loss: 5.7335e-05 - val_loss: 0.0074 - 104ms/epoch - 6ms/step\n",
            "Epoch 100/100\n",
            "17/17 - 0s - loss: 5.5925e-05 - val_loss: 0.0088 - 90ms/epoch - 5ms/step\n"
          ]
        },
        {
          "output_type": "execute_result",
          "data": {
            "text/plain": [
              "<keras.src.callbacks.History at 0x7c5eda90d540>"
            ]
          },
          "metadata": {},
          "execution_count": 36
        }
      ]
    },
    {
      "cell_type": "code",
      "source": [
        "###Make predictions\n",
        "trainPredict = model.predict(trainX)\n",
        "testPredict = model.predict(testX)"
      ],
      "metadata": {
        "colab": {
          "base_uri": "https://localhost:8080/"
        },
        "id": "Wgh9GzXwDAVa",
        "outputId": "35a05a2c-089a-4e08-8c0b-6d367d736b67"
      },
      "execution_count": 37,
      "outputs": [
        {
          "output_type": "stream",
          "name": "stdout",
          "text": [
            "17/17 [==============================] - 1s 4ms/step\n",
            "8/8 [==============================] - 0s 4ms/step\n"
          ]
        }
      ]
    },
    {
      "cell_type": "code",
      "source": [
        "###Do inverse\n",
        "trainPredict = scaler.inverse_transform(trainPredict)\n",
        "trainY = scaler.inverse_transform([trainY])\n",
        "testPredict = scaler.inverse_transform(testPredict)\n",
        "testY = scaler.inverse_transform([testY])"
      ],
      "metadata": {
        "id": "ASN_ABe_DH9H"
      },
      "execution_count": 38,
      "outputs": []
    },
    {
      "cell_type": "code",
      "source": [
        "import math\n",
        "trainScore = math.sqrt(mean_squared_error(trainY[0], trainPredict[:,0]))\n",
        "print('Train Score: %.2f RMSE' % (trainScore))\n",
        "testScore = math.sqrt(mean_squared_error(testY[0], testPredict[:,0]))\n",
        "print('Test Score: %.2f RMSE' % (testScore))"
      ],
      "metadata": {
        "colab": {
          "base_uri": "https://localhost:8080/"
        },
        "id": "ICfm8ArLDLmY",
        "outputId": "869fd5e5-b336-4c97-8d82-58c55ad434fe"
      },
      "execution_count": 40,
      "outputs": [
        {
          "output_type": "stream",
          "name": "stdout",
          "text": [
            "Train Score: 17.05 RMSE\n",
            "Test Score: 217.45 RMSE\n"
          ]
        }
      ]
    },
    {
      "cell_type": "code",
      "source": [
        "####MAE\n",
        "from sklearn.metrics import mean_absolute_error as mae\n",
        "MAE_Train=mae(trainY[0], trainPredict[:,0])\n",
        "MAE_Test=mae(testY[0], testPredict[:,0])\n",
        "MAE_Train\n",
        "MAE_Test\n",
        "\n",
        "###MAPE\n",
        "from sklearn.metrics import mean_absolute_percentage_error as mape\n",
        "MAPE_Train=mape(trainY[0], trainPredict[:,0])\n",
        "MAPE_Train\n",
        "MAPE_Test=mape(testY[0], testPredict[:,0])\n",
        "MAPE_Test"
      ],
      "metadata": {
        "colab": {
          "base_uri": "https://localhost:8080/"
        },
        "id": "rn9zcHhQDOzF",
        "outputId": "a085ea41-9f54-4cfa-baa3-53a2244885fc"
      },
      "execution_count": 41,
      "outputs": [
        {
          "output_type": "execute_result",
          "data": {
            "text/plain": [
              "0.12299024560444033"
            ]
          },
          "metadata": {},
          "execution_count": 41
        }
      ]
    },
    {
      "cell_type": "code",
      "source": [
        "# shift train predictions for plotting\n",
        "#we must shift the predictions so that they align on the x-axis with the original dataset.\n",
        "trainPredictPlot = np.empty_like(dataset)\n",
        "trainPredictPlot[:, :] = np.nan\n",
        "trainPredictPlot[seq_size:len(trainPredict)+seq_size, :] = trainPredict\n",
        "# shift test predictions for plotting\n",
        "testPredictPlot = np.empty_like(dataset)\n",
        "testPredictPlot[:, :] = np.nan\n",
        "testPredictPlot[len(trainPredict)+(seq_size*2)+1:len(dataset)-1, :] = testPredict"
      ],
      "metadata": {
        "id": "A5jIj7RHDauj"
      },
      "execution_count": 42,
      "outputs": []
    },
    {
      "cell_type": "code",
      "source": [
        "##Plot baseline and predictions\n",
        "f_data= scaler.inverse_transform(dataset)\n",
        "train = trainPredictPlot\n",
        "test = testPredictPlot\n",
        "\n",
        "# plot baseline and predictions\n",
        "plt.plot(f_data, label=\"Actual\")\n",
        "plt.plot(test, label=\"Predict\")\n",
        "plt.legend()\n",
        "plt.show()"
      ],
      "metadata": {
        "colab": {
          "base_uri": "https://localhost:8080/",
          "height": 430
        },
        "id": "VM2ApzI2Dede",
        "outputId": "1a95b081-71ee-4d0b-8e64-7e25aea51d13"
      },
      "execution_count": 43,
      "outputs": [
        {
          "output_type": "display_data",
          "data": {
            "text/plain": [
              "<Figure size 640x480 with 1 Axes>"
            ],
            "image/png": "[encoded data removed]"
          },
          "metadata": {}
        }
      ]
    },
    {
      "cell_type": "code",
      "source": [
        "actual_data = pd.DataFrame(f_data)\n",
        "test_data = pd.DataFrame(testPredictPlot)\n",
        "df = pd.DataFrame()\n",
        "df['actual'] = actual_data\n",
        "df['test'] = test_data\n",
        "import os\n",
        "os.getcwd()\n",
        "df.to_csv(\"lstm10.csv\")"
      ],
      "metadata": {
        "id": "tNqxOZAGDg_Q"
      },
      "execution_count": 44,
      "outputs": []
    },
    {
      "cell_type": "code",
      "source": [
        "plt.plot(f_data, label=\"Actual\")\n",
        "plt.plot(test, label=\"Predicted\")\n",
        "plt.legend()\n",
        "plt.show()"
      ],
      "metadata": {
        "colab": {
          "base_uri": "https://localhost:8080/",
          "height": 430
        },
        "id": "vtAi9Ac6DmMn",
        "outputId": "74541e8b-440b-4c54-c9e7-035f6bf5726a"
      },
      "execution_count": 45,
      "outputs": [
        {
          "output_type": "display_data",
          "data": {
            "text/plain": [
              "<Figure size 640x480 with 1 Axes>"
            ],
            "image/png": "[encoded data removed]"
          },
          "metadata": {}
        }
      ]
    },
    {
      "cell_type": "code",
      "source": [],
      "metadata": {
        "id": "90DXG9kVDpYs"
      },
      "execution_count": null,
      "outputs": []
    }
  ]
}